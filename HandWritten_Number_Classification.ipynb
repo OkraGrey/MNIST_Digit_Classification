{
  "nbformat": 4,
  "nbformat_minor": 0,
  "metadata": {
    "colab": {
      "provenance": []
    },
    "kernelspec": {
      "name": "python3",
      "display_name": "Python 3"
    },
    "language_info": {
      "name": "python"
    }
  },
  "cells": [
    {
      "cell_type": "code",
      "execution_count": 2,
      "metadata": {
        "id": "18CyGjrXr4On"
      },
      "outputs": [],
      "source": [
        "import tensorflow\n",
        "from tensorflow import keras"
      ]
    },
    {
      "cell_type": "code",
      "source": [
        "from tensorflow.keras import Sequential\n",
        "from tensorflow.keras.layers import Dense,Flatten"
      ],
      "metadata": {
        "id": "ouPLzdatr_9n"
      },
      "execution_count": 21,
      "outputs": []
    },
    {
      "cell_type": "code",
      "source": [
        "(X_train,y_train),(X_test,y_test)=keras.datasets.mnist.load_data()"
      ],
      "metadata": {
        "colab": {
          "base_uri": "https://localhost:8080/"
        },
        "id": "I9MlVroKsQP2",
        "outputId": "fe491a20-7add-4b5c-fe0c-5bd4ebe38f1a"
      },
      "execution_count": 4,
      "outputs": [
        {
          "output_type": "stream",
          "name": "stdout",
          "text": [
            "Downloading data from https://storage.googleapis.com/tensorflow/tf-keras-datasets/mnist.npz\n",
            "11490434/11490434 [==============================] - 1s 0us/step\n"
          ]
        }
      ]
    },
    {
      "cell_type": "code",
      "source": [
        "X_train.shape"
      ],
      "metadata": {
        "colab": {
          "base_uri": "https://localhost:8080/"
        },
        "id": "8Q6ThxpVsaGi",
        "outputId": "a1751071-9cd5-4ab9-cfa5-f8aebfdf9a8d"
      },
      "execution_count": 12,
      "outputs": [
        {
          "output_type": "execute_result",
          "data": {
            "text/plain": [
              "(60000, 28, 28)"
            ]
          },
          "metadata": {},
          "execution_count": 12
        }
      ]
    },
    {
      "cell_type": "code",
      "source": [
        "import matplotlib.pyplot as plt"
      ],
      "metadata": {
        "id": "VPJJS47Jscfp"
      },
      "execution_count": 13,
      "outputs": []
    },
    {
      "cell_type": "code",
      "source": [
        "plt.imshow(X_train[0])"
      ],
      "metadata": {
        "colab": {
          "base_uri": "https://localhost:8080/",
          "height": 447
        },
        "id": "BtCuQFIYtL3i",
        "outputId": "f889f423-4ff3-43d5-dda5-fd40fa0277ca"
      },
      "execution_count": 14,
      "outputs": [
        {
          "output_type": "execute_result",
          "data": {
            "text/plain": [
              "<matplotlib.image.AxesImage at 0x783cea276c20>"
            ]
          },
          "metadata": {},
          "execution_count": 14
        },
        {
          "output_type": "display_data",
          "data": {
            "text/plain": [
              "<Figure size 640x480 with 1 Axes>"
            ],
            "image/png": "[encoded data removed]"
          },
          "metadata": {}
        }
      ]
    },
    {
      "cell_type": "code",
      "source": [
        "y_train[0]"
      ],
      "metadata": {
        "colab": {
          "base_uri": "https://localhost:8080/"
        },
        "id": "qebD_g38tPmE",
        "outputId": "974c89f1-2df2-4788-e9f5-a02d2fe0a71e"
      },
      "execution_count": 15,
      "outputs": [
        {
          "output_type": "execute_result",
          "data": {
            "text/plain": [
              "5"
            ]
          },
          "metadata": {},
          "execution_count": 15
        }
      ]
    },
    {
      "cell_type": "code",
      "source": [
        "X_train=X_train/255\n",
        "X_test=X_test/255\n"
      ],
      "metadata": {
        "id": "yIqgvDtJtSJS"
      },
      "execution_count": 16,
      "outputs": []
    },
    {
      "cell_type": "code",
      "source": [
        "# X_train[0]"
      ],
      "metadata": {
        "id": "-a3_ROpjtqhO"
      },
      "execution_count": 20,
      "outputs": []
    },
    {
      "cell_type": "code",
      "source": [
        "model = Sequential()\n",
        "\n",
        "model.add(Flatten(input_shape=(28,28)))\n",
        "\n",
        "model.add(Dense(128,activation='relu'))\n",
        "\n",
        "model.add(Dense(128,activation='relu'))\n",
        "\n",
        "model.add(Dense(10,activation='softmax'))"
      ],
      "metadata": {
        "id": "s0Kqi6S7tuB9"
      },
      "execution_count": 23,
      "outputs": []
    },
    {
      "cell_type": "code",
      "source": [
        "model.summary()"
      ],
      "metadata": {
        "colab": {
          "base_uri": "https://localhost:8080/"
        },
        "id": "AJT3m4TAwDZD",
        "outputId": "aedc09d4-7e73-4762-f005-3cc17ba338ee"
      },
      "execution_count": 24,
      "outputs": [
        {
          "output_type": "stream",
          "name": "stdout",
          "text": [
            "Model: \"sequential_1\"\n",
            "_________________________________________________________________\n",
            " Layer (type)                Output Shape              Param #   \n",
            "=================================================================\n",
            " flatten_1 (Flatten)         (None, 784)               0         \n",
            "                                                                 \n",
            " dense (Dense)               (None, 128)               100480    \n",
            "                                                                 \n",
            " dense_1 (Dense)             (None, 128)               16512     \n",
            "                                                                 \n",
            " dense_2 (Dense)             (None, 10)                1290      \n",
            "                                                                 \n",
            "=================================================================\n",
            "Total params: 118282 (462.04 KB)\n",
            "Trainable params: 118282 (462.04 KB)\n",
            "Non-trainable params: 0 (0.00 Byte)\n",
            "_________________________________________________________________\n"
          ]
        }
      ]
    },
    {
      "cell_type": "code",
      "source": [
        "model.compile(loss=\"sparse_categorical_crossentropy\",optimizer='Adam',metrics=['accuracy'])"
      ],
      "metadata": {
        "id": "CkR2vqgawZY0"
      },
      "execution_count": 26,
      "outputs": []
    },
    {
      "cell_type": "code",
      "source": [
        "model.fit(X_train,y_train,epochs=100,validation_split=0.2)"
      ],
      "metadata": {
        "colab": {
          "base_uri": "https://localhost:8080/"
        },
        "id": "uwR-xWSJwja-",
        "outputId": "c2f66084-c2ab-4758-b67c-506526c30f48"
      },
      "execution_count": 27,
      "outputs": [
        {
          "output_type": "stream",
          "name": "stdout",
          "text": [
            "Epoch 1/100\n",
            "1500/1500 [==============================] - 9s 5ms/step - loss: 0.2595 - accuracy: 0.9244 - val_loss: 0.1300 - val_accuracy: 0.9624\n",
            "Epoch 2/100\n",
            "1500/1500 [==============================] - 6s 4ms/step - loss: 0.1081 - accuracy: 0.9666 - val_loss: 0.0977 - val_accuracy: 0.9697\n",
            "Epoch 3/100\n",
            "1500/1500 [==============================] - 7s 5ms/step - loss: 0.0724 - accuracy: 0.9774 - val_loss: 0.0920 - val_accuracy: 0.9737\n",
            "Epoch 4/100\n",
            "1500/1500 [==============================] - 6s 4ms/step - loss: 0.0548 - accuracy: 0.9827 - val_loss: 0.0927 - val_accuracy: 0.9739\n",
            "Epoch 5/100\n",
            "1500/1500 [==============================] - 8s 5ms/step - loss: 0.0439 - accuracy: 0.9862 - val_loss: 0.0947 - val_accuracy: 0.9732\n",
            "Epoch 6/100\n",
            "1500/1500 [==============================] - 6s 4ms/step - loss: 0.0327 - accuracy: 0.9892 - val_loss: 0.0986 - val_accuracy: 0.9745\n",
            "Epoch 7/100\n",
            "1500/1500 [==============================] - 7s 5ms/step - loss: 0.0300 - accuracy: 0.9901 - val_loss: 0.0924 - val_accuracy: 0.9766\n",
            "Epoch 8/100\n",
            "1500/1500 [==============================] - 6s 4ms/step - loss: 0.0235 - accuracy: 0.9920 - val_loss: 0.1105 - val_accuracy: 0.9750\n",
            "Epoch 9/100\n",
            "1500/1500 [==============================] - 8s 5ms/step - loss: 0.0204 - accuracy: 0.9928 - val_loss: 0.1001 - val_accuracy: 0.9756\n",
            "Epoch 10/100\n",
            "1500/1500 [==============================] - 6s 4ms/step - loss: 0.0177 - accuracy: 0.9938 - val_loss: 0.1069 - val_accuracy: 0.9775\n",
            "Epoch 11/100\n",
            "1500/1500 [==============================] - 7s 5ms/step - loss: 0.0167 - accuracy: 0.9943 - val_loss: 0.1349 - val_accuracy: 0.9723\n",
            "Epoch 12/100\n",
            "1500/1500 [==============================] - 6s 4ms/step - loss: 0.0154 - accuracy: 0.9944 - val_loss: 0.1156 - val_accuracy: 0.9768\n",
            "Epoch 13/100\n",
            "1500/1500 [==============================] - 7s 5ms/step - loss: 0.0134 - accuracy: 0.9956 - val_loss: 0.1127 - val_accuracy: 0.9765\n",
            "Epoch 14/100\n",
            "1500/1500 [==============================] - 8s 6ms/step - loss: 0.0135 - accuracy: 0.9955 - val_loss: 0.1312 - val_accuracy: 0.9762\n",
            "Epoch 15/100\n",
            "1500/1500 [==============================] - 6s 4ms/step - loss: 0.0140 - accuracy: 0.9955 - val_loss: 0.1351 - val_accuracy: 0.9768\n",
            "Epoch 16/100\n",
            "1500/1500 [==============================] - 8s 5ms/step - loss: 0.0104 - accuracy: 0.9967 - val_loss: 0.1462 - val_accuracy: 0.9760\n",
            "Epoch 17/100\n",
            "1500/1500 [==============================] - 6s 4ms/step - loss: 0.0117 - accuracy: 0.9959 - val_loss: 0.1514 - val_accuracy: 0.9756\n",
            "Epoch 18/100\n",
            "1500/1500 [==============================] - 7s 5ms/step - loss: 0.0128 - accuracy: 0.9961 - val_loss: 0.1680 - val_accuracy: 0.9749\n",
            "Epoch 19/100\n",
            "1500/1500 [==============================] - 6s 4ms/step - loss: 0.0105 - accuracy: 0.9966 - val_loss: 0.1630 - val_accuracy: 0.9731\n",
            "Epoch 20/100\n",
            "1500/1500 [==============================] - 7s 5ms/step - loss: 0.0090 - accuracy: 0.9973 - val_loss: 0.1443 - val_accuracy: 0.9776\n",
            "Epoch 21/100\n",
            "1500/1500 [==============================] - 6s 4ms/step - loss: 0.0102 - accuracy: 0.9968 - val_loss: 0.1462 - val_accuracy: 0.9758\n",
            "Epoch 22/100\n",
            "1500/1500 [==============================] - 7s 5ms/step - loss: 0.0109 - accuracy: 0.9967 - val_loss: 0.1559 - val_accuracy: 0.9771\n",
            "Epoch 23/100\n",
            "1500/1500 [==============================] - 6s 4ms/step - loss: 0.0077 - accuracy: 0.9976 - val_loss: 0.1682 - val_accuracy: 0.9754\n",
            "Epoch 24/100\n",
            "1500/1500 [==============================] - 7s 5ms/step - loss: 0.0088 - accuracy: 0.9972 - val_loss: 0.1591 - val_accuracy: 0.9775\n",
            "Epoch 25/100\n",
            "1500/1500 [==============================] - 6s 4ms/step - loss: 0.0079 - accuracy: 0.9975 - val_loss: 0.1554 - val_accuracy: 0.9765\n",
            "Epoch 26/100\n",
            "1500/1500 [==============================] - 7s 5ms/step - loss: 0.0093 - accuracy: 0.9969 - val_loss: 0.1654 - val_accuracy: 0.9764\n",
            "Epoch 27/100\n",
            "1500/1500 [==============================] - 6s 4ms/step - loss: 0.0079 - accuracy: 0.9976 - val_loss: 0.1698 - val_accuracy: 0.9771\n",
            "Epoch 28/100\n",
            "1500/1500 [==============================] - 7s 5ms/step - loss: 0.0089 - accuracy: 0.9973 - val_loss: 0.1863 - val_accuracy: 0.9771\n",
            "Epoch 29/100\n",
            "1500/1500 [==============================] - 6s 4ms/step - loss: 0.0058 - accuracy: 0.9978 - val_loss: 0.1880 - val_accuracy: 0.9762\n",
            "Epoch 30/100\n",
            "1500/1500 [==============================] - 7s 5ms/step - loss: 0.0059 - accuracy: 0.9980 - val_loss: 0.1866 - val_accuracy: 0.9761\n",
            "Epoch 31/100\n",
            "1500/1500 [==============================] - 6s 4ms/step - loss: 0.0083 - accuracy: 0.9976 - val_loss: 0.2015 - val_accuracy: 0.9753\n",
            "Epoch 32/100\n",
            "1500/1500 [==============================] - 7s 5ms/step - loss: 0.0092 - accuracy: 0.9974 - val_loss: 0.1785 - val_accuracy: 0.9762\n",
            "Epoch 33/100\n",
            "1500/1500 [==============================] - 6s 4ms/step - loss: 0.0059 - accuracy: 0.9982 - val_loss: 0.1970 - val_accuracy: 0.9757\n",
            "Epoch 34/100\n",
            "1500/1500 [==============================] - 7s 5ms/step - loss: 0.0076 - accuracy: 0.9980 - val_loss: 0.1842 - val_accuracy: 0.9775\n",
            "Epoch 35/100\n",
            "1500/1500 [==============================] - 7s 4ms/step - loss: 0.0081 - accuracy: 0.9978 - val_loss: 0.2077 - val_accuracy: 0.9741\n",
            "Epoch 36/100\n",
            "1500/1500 [==============================] - 7s 4ms/step - loss: 0.0059 - accuracy: 0.9982 - val_loss: 0.1890 - val_accuracy: 0.9768\n",
            "Epoch 37/100\n",
            "1500/1500 [==============================] - 7s 5ms/step - loss: 0.0091 - accuracy: 0.9974 - val_loss: 0.2408 - val_accuracy: 0.9748\n",
            "Epoch 38/100\n",
            "1500/1500 [==============================] - 6s 4ms/step - loss: 0.0048 - accuracy: 0.9986 - val_loss: 0.1996 - val_accuracy: 0.9762\n",
            "Epoch 39/100\n",
            "1500/1500 [==============================] - 8s 5ms/step - loss: 0.0083 - accuracy: 0.9977 - val_loss: 0.1988 - val_accuracy: 0.9775\n",
            "Epoch 40/100\n",
            "1500/1500 [==============================] - 6s 4ms/step - loss: 0.0055 - accuracy: 0.9985 - val_loss: 0.2224 - val_accuracy: 0.9756\n",
            "Epoch 41/100\n",
            "1500/1500 [==============================] - 7s 5ms/step - loss: 0.0081 - accuracy: 0.9980 - val_loss: 0.2132 - val_accuracy: 0.9770\n",
            "Epoch 42/100\n",
            "1500/1500 [==============================] - 6s 4ms/step - loss: 0.0061 - accuracy: 0.9979 - val_loss: 0.2250 - val_accuracy: 0.9775\n",
            "Epoch 43/100\n",
            "1500/1500 [==============================] - 7s 5ms/step - loss: 0.0073 - accuracy: 0.9980 - val_loss: 0.2115 - val_accuracy: 0.9774\n",
            "Epoch 44/100\n",
            "1500/1500 [==============================] - 6s 4ms/step - loss: 0.0062 - accuracy: 0.9983 - val_loss: 0.2431 - val_accuracy: 0.9734\n",
            "Epoch 45/100\n",
            "1500/1500 [==============================] - 7s 5ms/step - loss: 0.0045 - accuracy: 0.9987 - val_loss: 0.2167 - val_accuracy: 0.9789\n",
            "Epoch 46/100\n",
            "1500/1500 [==============================] - 6s 4ms/step - loss: 0.0064 - accuracy: 0.9984 - val_loss: 0.2239 - val_accuracy: 0.9774\n",
            "Epoch 47/100\n",
            "1500/1500 [==============================] - 7s 5ms/step - loss: 0.0077 - accuracy: 0.9982 - val_loss: 0.2220 - val_accuracy: 0.9802\n",
            "Epoch 48/100\n",
            "1500/1500 [==============================] - 6s 4ms/step - loss: 0.0075 - accuracy: 0.9981 - val_loss: 0.2168 - val_accuracy: 0.9772\n",
            "Epoch 49/100\n",
            "1500/1500 [==============================] - 7s 5ms/step - loss: 0.0043 - accuracy: 0.9988 - val_loss: 0.2355 - val_accuracy: 0.9769\n",
            "Epoch 50/100\n",
            "1500/1500 [==============================] - 7s 4ms/step - loss: 0.0054 - accuracy: 0.9986 - val_loss: 0.2449 - val_accuracy: 0.9758\n",
            "Epoch 51/100\n",
            "1500/1500 [==============================] - 7s 5ms/step - loss: 0.0072 - accuracy: 0.9984 - val_loss: 0.2272 - val_accuracy: 0.9766\n",
            "Epoch 52/100\n",
            "1500/1500 [==============================] - 7s 4ms/step - loss: 0.0059 - accuracy: 0.9985 - val_loss: 0.2231 - val_accuracy: 0.9769\n",
            "Epoch 53/100\n",
            "1500/1500 [==============================] - 7s 4ms/step - loss: 0.0055 - accuracy: 0.9987 - val_loss: 0.2574 - val_accuracy: 0.9768\n",
            "Epoch 54/100\n",
            "1500/1500 [==============================] - 7s 5ms/step - loss: 0.0046 - accuracy: 0.9987 - val_loss: 0.2431 - val_accuracy: 0.9769\n",
            "Epoch 55/100\n",
            "1500/1500 [==============================] - 6s 4ms/step - loss: 0.0075 - accuracy: 0.9980 - val_loss: 0.2545 - val_accuracy: 0.9774\n",
            "Epoch 56/100\n",
            "1500/1500 [==============================] - 7s 5ms/step - loss: 0.0074 - accuracy: 0.9983 - val_loss: 0.2352 - val_accuracy: 0.9768\n",
            "Epoch 57/100\n",
            "1500/1500 [==============================] - 6s 4ms/step - loss: 0.0031 - accuracy: 0.9990 - val_loss: 0.2604 - val_accuracy: 0.9761\n",
            "Epoch 58/100\n",
            "1500/1500 [==============================] - 7s 5ms/step - loss: 0.0091 - accuracy: 0.9982 - val_loss: 0.2519 - val_accuracy: 0.9774\n",
            "Epoch 59/100\n",
            "1500/1500 [==============================] - 6s 4ms/step - loss: 0.0051 - accuracy: 0.9987 - val_loss: 0.2589 - val_accuracy: 0.9768\n",
            "Epoch 60/100\n",
            "1500/1500 [==============================] - 8s 5ms/step - loss: 0.0062 - accuracy: 0.9985 - val_loss: 0.2673 - val_accuracy: 0.9758\n",
            "Epoch 61/100\n",
            "1500/1500 [==============================] - 6s 4ms/step - loss: 0.0040 - accuracy: 0.9991 - val_loss: 0.2668 - val_accuracy: 0.9757\n",
            "Epoch 62/100\n",
            "1500/1500 [==============================] - 7s 5ms/step - loss: 0.0065 - accuracy: 0.9985 - val_loss: 0.2710 - val_accuracy: 0.9766\n",
            "Epoch 63/100\n",
            "1500/1500 [==============================] - 6s 4ms/step - loss: 0.0057 - accuracy: 0.9986 - val_loss: 0.2384 - val_accuracy: 0.9781\n",
            "Epoch 64/100\n",
            "1500/1500 [==============================] - 7s 5ms/step - loss: 0.0049 - accuracy: 0.9985 - val_loss: 0.2900 - val_accuracy: 0.9771\n",
            "Epoch 65/100\n",
            "1500/1500 [==============================] - 6s 4ms/step - loss: 0.0075 - accuracy: 0.9982 - val_loss: 0.2689 - val_accuracy: 0.9771\n",
            "Epoch 66/100\n",
            "1500/1500 [==============================] - 7s 5ms/step - loss: 0.0033 - accuracy: 0.9990 - val_loss: 0.2535 - val_accuracy: 0.9776\n",
            "Epoch 67/100\n",
            "1500/1500 [==============================] - 6s 4ms/step - loss: 0.0067 - accuracy: 0.9987 - val_loss: 0.3462 - val_accuracy: 0.9733\n",
            "Epoch 68/100\n",
            "1500/1500 [==============================] - 7s 5ms/step - loss: 0.0061 - accuracy: 0.9986 - val_loss: 0.2752 - val_accuracy: 0.9772\n",
            "Epoch 69/100\n",
            "1500/1500 [==============================] - 6s 4ms/step - loss: 0.0049 - accuracy: 0.9988 - val_loss: 0.2659 - val_accuracy: 0.9788\n",
            "Epoch 70/100\n",
            "1500/1500 [==============================] - 7s 5ms/step - loss: 0.0057 - accuracy: 0.9985 - val_loss: 0.2900 - val_accuracy: 0.9772\n",
            "Epoch 71/100\n",
            "1500/1500 [==============================] - 6s 4ms/step - loss: 0.0052 - accuracy: 0.9988 - val_loss: 0.2753 - val_accuracy: 0.9773\n",
            "Epoch 72/100\n",
            "1500/1500 [==============================] - 8s 5ms/step - loss: 0.0049 - accuracy: 0.9987 - val_loss: 0.2796 - val_accuracy: 0.9787\n",
            "Epoch 73/100\n",
            "1500/1500 [==============================] - 7s 5ms/step - loss: 0.0069 - accuracy: 0.9985 - val_loss: 0.2961 - val_accuracy: 0.9785\n",
            "Epoch 74/100\n",
            "1500/1500 [==============================] - 7s 5ms/step - loss: 0.0028 - accuracy: 0.9992 - val_loss: 0.2890 - val_accuracy: 0.9795\n",
            "Epoch 75/100\n",
            "1500/1500 [==============================] - 8s 5ms/step - loss: 0.0059 - accuracy: 0.9989 - val_loss: 0.2747 - val_accuracy: 0.9780\n",
            "Epoch 76/100\n",
            "1500/1500 [==============================] - 6s 4ms/step - loss: 0.0057 - accuracy: 0.9986 - val_loss: 0.3077 - val_accuracy: 0.9768\n",
            "Epoch 77/100\n",
            "1500/1500 [==============================] - 7s 5ms/step - loss: 0.0039 - accuracy: 0.9991 - val_loss: 0.3005 - val_accuracy: 0.9766\n",
            "Epoch 78/100\n",
            "1500/1500 [==============================] - 6s 4ms/step - loss: 0.0062 - accuracy: 0.9988 - val_loss: 0.2755 - val_accuracy: 0.9774\n",
            "Epoch 79/100\n",
            "1500/1500 [==============================] - 8s 5ms/step - loss: 0.0053 - accuracy: 0.9987 - val_loss: 0.2844 - val_accuracy: 0.9762\n",
            "Epoch 80/100\n",
            "1500/1500 [==============================] - 6s 4ms/step - loss: 0.0042 - accuracy: 0.9990 - val_loss: 0.3436 - val_accuracy: 0.9751\n",
            "Epoch 81/100\n",
            "1500/1500 [==============================] - 7s 5ms/step - loss: 0.0025 - accuracy: 0.9995 - val_loss: 0.3114 - val_accuracy: 0.9774\n",
            "Epoch 82/100\n",
            "1500/1500 [==============================] - 6s 4ms/step - loss: 0.0080 - accuracy: 0.9983 - val_loss: 0.3374 - val_accuracy: 0.9767\n",
            "Epoch 83/100\n",
            "1500/1500 [==============================] - 8s 5ms/step - loss: 0.0054 - accuracy: 0.9986 - val_loss: 0.3141 - val_accuracy: 0.9781\n",
            "Epoch 84/100\n",
            "1500/1500 [==============================] - 7s 5ms/step - loss: 0.0055 - accuracy: 0.9987 - val_loss: 0.3263 - val_accuracy: 0.9776\n",
            "Epoch 85/100\n",
            "1500/1500 [==============================] - 8s 5ms/step - loss: 0.0060 - accuracy: 0.9989 - val_loss: 0.3045 - val_accuracy: 0.9788\n",
            "Epoch 86/100\n",
            "1500/1500 [==============================] - 8s 5ms/step - loss: 0.0060 - accuracy: 0.9985 - val_loss: 0.3422 - val_accuracy: 0.9783\n",
            "Epoch 87/100\n",
            "1500/1500 [==============================] - 7s 5ms/step - loss: 0.0037 - accuracy: 0.9992 - val_loss: 0.3413 - val_accuracy: 0.9777\n",
            "Epoch 88/100\n",
            "1500/1500 [==============================] - 8s 5ms/step - loss: 0.0026 - accuracy: 0.9993 - val_loss: 0.3015 - val_accuracy: 0.9806\n",
            "Epoch 89/100\n",
            "1500/1500 [==============================] - 6s 4ms/step - loss: 0.0056 - accuracy: 0.9990 - val_loss: 0.3155 - val_accuracy: 0.9791\n",
            "Epoch 90/100\n",
            "1500/1500 [==============================] - 8s 5ms/step - loss: 0.0064 - accuracy: 0.9988 - val_loss: 0.3086 - val_accuracy: 0.9792\n",
            "Epoch 91/100\n",
            "1500/1500 [==============================] - 7s 5ms/step - loss: 0.0039 - accuracy: 0.9991 - val_loss: 0.3350 - val_accuracy: 0.9793\n",
            "Epoch 92/100\n",
            "1500/1500 [==============================] - 7s 5ms/step - loss: 0.0040 - accuracy: 0.9991 - val_loss: 0.3214 - val_accuracy: 0.9796\n",
            "Epoch 93/100\n",
            "1500/1500 [==============================] - 6s 4ms/step - loss: 0.0042 - accuracy: 0.9989 - val_loss: 0.3646 - val_accuracy: 0.9768\n",
            "Epoch 94/100\n",
            "1500/1500 [==============================] - 8s 5ms/step - loss: 0.0057 - accuracy: 0.9989 - val_loss: 0.3588 - val_accuracy: 0.9774\n",
            "Epoch 95/100\n",
            "1500/1500 [==============================] - 7s 5ms/step - loss: 0.0051 - accuracy: 0.9990 - val_loss: 0.4076 - val_accuracy: 0.9776\n",
            "Epoch 96/100\n",
            "1500/1500 [==============================] - 7s 5ms/step - loss: 0.0041 - accuracy: 0.9990 - val_loss: 0.3641 - val_accuracy: 0.9781\n",
            "Epoch 97/100\n",
            "1500/1500 [==============================] - 9s 6ms/step - loss: 0.0058 - accuracy: 0.9987 - val_loss: 0.3238 - val_accuracy: 0.9791\n",
            "Epoch 98/100\n",
            "1500/1500 [==============================] - 6s 4ms/step - loss: 0.0022 - accuracy: 0.9995 - val_loss: 0.2948 - val_accuracy: 0.9813\n",
            "Epoch 99/100\n",
            "1500/1500 [==============================] - 7s 5ms/step - loss: 0.0068 - accuracy: 0.9985 - val_loss: 0.3337 - val_accuracy: 0.9772\n",
            "Epoch 100/100\n",
            "1500/1500 [==============================] - 7s 4ms/step - loss: 0.0054 - accuracy: 0.9989 - val_loss: 0.3134 - val_accuracy: 0.9797\n"
          ]
        },
        {
          "output_type": "execute_result",
          "data": {
            "text/plain": [
              "<keras.src.callbacks.History at 0x783ce9f70430>"
            ]
          },
          "metadata": {},
          "execution_count": 27
        }
      ]
    },
    {
      "cell_type": "code",
      "source": [
        "y_log=model.predict(X_test)"
      ],
      "metadata": {
        "colab": {
          "base_uri": "https://localhost:8080/"
        },
        "id": "o_EVSnwZw3j9",
        "outputId": "d3db83ef-57d8-4b96-d7a9-2a42d2cb86aa"
      },
      "execution_count": 31,
      "outputs": [
        {
          "output_type": "stream",
          "name": "stdout",
          "text": [
            "313/313 [==============================] - 1s 3ms/step\n"
          ]
        }
      ]
    },
    {
      "cell_type": "code",
      "source": [
        "y_pred=y_log.argmax(axis=1)"
      ],
      "metadata": {
        "id": "mT4P_j-p5UQo"
      },
      "execution_count": 32,
      "outputs": []
    },
    {
      "cell_type": "code",
      "source": [
        "y_pred"
      ],
      "metadata": {
        "colab": {
          "base_uri": "https://localhost:8080/"
        },
        "id": "4NvmqTtA5Vxn",
        "outputId": "33f3562a-2f0c-41a4-d7e0-860ddddcb770"
      },
      "execution_count": 33,
      "outputs": [
        {
          "output_type": "execute_result",
          "data": {
            "text/plain": [
              "array([7, 2, 1, ..., 4, 5, 6])"
            ]
          },
          "metadata": {},
          "execution_count": 33
        }
      ]
    },
    {
      "cell_type": "code",
      "source": [
        "from sklearn.metrics import accuracy_score\n",
        "accuracy_score(y_test,y_pred)"
      ],
      "metadata": {
        "colab": {
          "base_uri": "https://localhost:8080/"
        },
        "id": "fl84Vvmz47h4",
        "outputId": "b0d2fafa-c682-4ba8-b792-312a0cf3b700"
      },
      "execution_count": 34,
      "outputs": [
        {
          "output_type": "execute_result",
          "data": {
            "text/plain": [
              "0.9779"
            ]
          },
          "metadata": {},
          "execution_count": 34
        }
      ]
    },
    {
      "cell_type": "code",
      "source": [],
      "metadata": {
        "id": "AKAoM9x05jUi"
      },
      "execution_count": null,
      "outputs": []
    }
  ]
}